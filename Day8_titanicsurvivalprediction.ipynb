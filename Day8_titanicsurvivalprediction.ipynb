{
 "cells": [
  {
   "cell_type": "code",
   "execution_count": 25,
   "id": "653b21d9-13d7-4dac-bfbd-6c474aa069db",
   "metadata": {},
   "outputs": [],
   "source": [
    "import pandas as pd\n",
    "train = pd.read_csv('titanic_train.csv')\n",
    "test=pd.read_csv('titanic_test.csv')\n"
   ]
  },
  {
   "cell_type": "code",
   "execution_count": 26,
   "id": "3470a686-ee55-457a-82f2-3bb74bfc0b23",
   "metadata": {},
   "outputs": [
    {
     "data": {
      "text/html": [
       "<div>\n",
       "<style scoped>\n",
       "    .dataframe tbody tr th:only-of-type {\n",
       "        vertical-align: middle;\n",
       "    }\n",
       "\n",
       "    .dataframe tbody tr th {\n",
       "        vertical-align: top;\n",
       "    }\n",
       "\n",
       "    .dataframe thead th {\n",
       "        text-align: right;\n",
       "    }\n",
       "</style>\n",
       "<table border=\"1\" class=\"dataframe\">\n",
       "  <thead>\n",
       "    <tr style=\"text-align: right;\">\n",
       "      <th></th>\n",
       "      <th>PassengerId</th>\n",
       "      <th>Survived</th>\n",
       "      <th>Pclass</th>\n",
       "      <th>Name</th>\n",
       "      <th>Sex</th>\n",
       "      <th>Age</th>\n",
       "      <th>SibSp</th>\n",
       "      <th>Parch</th>\n",
       "      <th>Ticket</th>\n",
       "      <th>Fare</th>\n",
       "      <th>Cabin</th>\n",
       "      <th>Embarked</th>\n",
       "    </tr>\n",
       "  </thead>\n",
       "  <tbody>\n",
       "    <tr>\n",
       "      <th>0</th>\n",
       "      <td>1</td>\n",
       "      <td>0</td>\n",
       "      <td>3</td>\n",
       "      <td>Braund, Mr. Owen Harris</td>\n",
       "      <td>male</td>\n",
       "      <td>22.0</td>\n",
       "      <td>1</td>\n",
       "      <td>0</td>\n",
       "      <td>A/5 21171</td>\n",
       "      <td>7.2500</td>\n",
       "      <td>NaN</td>\n",
       "      <td>S</td>\n",
       "    </tr>\n",
       "    <tr>\n",
       "      <th>1</th>\n",
       "      <td>2</td>\n",
       "      <td>1</td>\n",
       "      <td>1</td>\n",
       "      <td>Cumings, Mrs. John Bradley (Florence Briggs Th...</td>\n",
       "      <td>female</td>\n",
       "      <td>38.0</td>\n",
       "      <td>1</td>\n",
       "      <td>0</td>\n",
       "      <td>PC 17599</td>\n",
       "      <td>71.2833</td>\n",
       "      <td>C85</td>\n",
       "      <td>C</td>\n",
       "    </tr>\n",
       "    <tr>\n",
       "      <th>2</th>\n",
       "      <td>3</td>\n",
       "      <td>1</td>\n",
       "      <td>3</td>\n",
       "      <td>Heikkinen, Miss. Laina</td>\n",
       "      <td>female</td>\n",
       "      <td>26.0</td>\n",
       "      <td>0</td>\n",
       "      <td>0</td>\n",
       "      <td>STON/O2. 3101282</td>\n",
       "      <td>7.9250</td>\n",
       "      <td>NaN</td>\n",
       "      <td>S</td>\n",
       "    </tr>\n",
       "    <tr>\n",
       "      <th>3</th>\n",
       "      <td>4</td>\n",
       "      <td>1</td>\n",
       "      <td>1</td>\n",
       "      <td>Futrelle, Mrs. Jacques Heath (Lily May Peel)</td>\n",
       "      <td>female</td>\n",
       "      <td>35.0</td>\n",
       "      <td>1</td>\n",
       "      <td>0</td>\n",
       "      <td>113803</td>\n",
       "      <td>53.1000</td>\n",
       "      <td>C123</td>\n",
       "      <td>S</td>\n",
       "    </tr>\n",
       "    <tr>\n",
       "      <th>4</th>\n",
       "      <td>5</td>\n",
       "      <td>0</td>\n",
       "      <td>3</td>\n",
       "      <td>Allen, Mr. William Henry</td>\n",
       "      <td>male</td>\n",
       "      <td>35.0</td>\n",
       "      <td>0</td>\n",
       "      <td>0</td>\n",
       "      <td>373450</td>\n",
       "      <td>8.0500</td>\n",
       "      <td>NaN</td>\n",
       "      <td>S</td>\n",
       "    </tr>\n",
       "  </tbody>\n",
       "</table>\n",
       "</div>"
      ],
      "text/plain": [
       "   PassengerId  Survived  Pclass  \\\n",
       "0            1         0       3   \n",
       "1            2         1       1   \n",
       "2            3         1       3   \n",
       "3            4         1       1   \n",
       "4            5         0       3   \n",
       "\n",
       "                                                Name     Sex   Age  SibSp  \\\n",
       "0                            Braund, Mr. Owen Harris    male  22.0      1   \n",
       "1  Cumings, Mrs. John Bradley (Florence Briggs Th...  female  38.0      1   \n",
       "2                             Heikkinen, Miss. Laina  female  26.0      0   \n",
       "3       Futrelle, Mrs. Jacques Heath (Lily May Peel)  female  35.0      1   \n",
       "4                           Allen, Mr. William Henry    male  35.0      0   \n",
       "\n",
       "   Parch            Ticket     Fare Cabin Embarked  \n",
       "0      0         A/5 21171   7.2500   NaN        S  \n",
       "1      0          PC 17599  71.2833   C85        C  \n",
       "2      0  STON/O2. 3101282   7.9250   NaN        S  \n",
       "3      0            113803  53.1000  C123        S  \n",
       "4      0            373450   8.0500   NaN        S  "
      ]
     },
     "execution_count": 26,
     "metadata": {},
     "output_type": "execute_result"
    }
   ],
   "source": [
    "train.head()"
   ]
  },
  {
   "cell_type": "code",
   "execution_count": 27,
   "id": "51235457-fca2-4c4b-8201-fdc58f3602be",
   "metadata": {},
   "outputs": [
    {
     "data": {
      "text/plain": [
       "(891, 12)"
      ]
     },
     "execution_count": 27,
     "metadata": {},
     "output_type": "execute_result"
    }
   ],
   "source": [
    "train.shape"
   ]
  },
  {
   "cell_type": "code",
   "execution_count": 28,
   "id": "b86f48c7-a2ba-4f27-9823-9da9d3210bb0",
   "metadata": {},
   "outputs": [
    {
     "data": {
      "text/plain": [
       "PassengerId      0\n",
       "Survived         0\n",
       "Pclass           0\n",
       "Name             0\n",
       "Sex              0\n",
       "Age            177\n",
       "SibSp            0\n",
       "Parch            0\n",
       "Ticket           0\n",
       "Fare             0\n",
       "Cabin          687\n",
       "Embarked         2\n",
       "dtype: int64"
      ]
     },
     "execution_count": 28,
     "metadata": {},
     "output_type": "execute_result"
    }
   ],
   "source": [
    "train.isnull().sum()"
   ]
  },
  {
   "cell_type": "code",
   "execution_count": 29,
   "id": "11fe385f-0e80-426f-b120-2e6692094147",
   "metadata": {},
   "outputs": [],
   "source": [
    "train = train.drop(columns=['Name', 'Cabin'])\n",
    "test = test.drop(columns=['Name', 'Cabin'])"
   ]
  },
  {
   "cell_type": "code",
   "execution_count": 30,
   "id": "0270995b-da5c-4198-8551-5fc9f1fd41e9",
   "metadata": {},
   "outputs": [],
   "source": [
    "train_age_mean=train['Age'].mean()\n",
    "test_age_mean=test['Age'].mean()\n",
    "\n",
    "train['Age'].fillna(train_age_mean,inplace=True)\n",
    "test['Age'].fillna(test_age_mean,inplace=True)"
   ]
  },
  {
   "cell_type": "code",
   "execution_count": 31,
   "id": "c3cb3f8d-d1c8-4a37-b762-a975be007794",
   "metadata": {},
   "outputs": [],
   "source": [
    "train['Embarked'].fillna(train['Embarked'].mode()[0],inplace=True)"
   ]
  },
  {
   "cell_type": "code",
   "execution_count": 32,
   "id": "c9d37855-2d7a-4042-82d0-637c6bd1847f",
   "metadata": {},
   "outputs": [],
   "source": [
    "\n",
    "train.drop(columns = 'PassengerId',inplace = True)\n",
    "test.drop(columns = 'PassengerId',inplace = True)\n"
   ]
  },
  {
   "cell_type": "code",
   "execution_count": 34,
   "id": "433df337-6269-4f94-9c75-2513662e641e",
   "metadata": {},
   "outputs": [
    {
     "data": {
      "text/plain": [
       "<Axes: xlabel='Pclass', ylabel='Count'>"
      ]
     },
     "execution_count": 34,
     "metadata": {},
     "output_type": "execute_result"
    },
    {
     "data": {
      "image/png": "[encoded data removed]",
      "text/plain": [
       "<Figure size 640x480 with 1 Axes>"
      ]
     },
     "metadata": {},
     "output_type": "display_data"
    }
   ],
   "source": [
    "Pclass_count=train.Pclass.value_counts()\n",
    "Pclass_count.plot(kind='bar',xlabel='Pclass',ylabel='Count')"
   ]
  },
  {
   "cell_type": "code",
   "execution_count": 35,
   "id": "f56994c8-189e-4640-bd24-013f4fac9e1e",
   "metadata": {},
   "outputs": [
    {
     "data": {
      "text/plain": [
       "<Axes: xlabel='Gender', ylabel='Count'>"
      ]
     },
     "execution_count": 35,
     "metadata": {},
     "output_type": "execute_result"
    },
    {
     "data": {
      "image/png": "[encoded data removed]",
      "text/plain": [
       "<Figure size 640x480 with 1 Axes>"
      ]
     },
     "metadata": {},
     "output_type": "display_data"
    }
   ],
   "source": [
    "Gender_count = train.Sex.value_counts()\n",
    "Gender_count.plot(kind='bar',xlabel='Gender',ylabel='Count')"
   ]
  },
  {
   "cell_type": "code",
   "execution_count": 36,
   "id": "2ec6a85d-7ac1-4bce-ad9d-3cfaab21848c",
   "metadata": {},
   "outputs": [
    {
     "data": {
      "text/plain": [
       "<Axes: xlabel='Survived', ylabel='Count'>"
      ]
     },
     "execution_count": 36,
     "metadata": {},
     "output_type": "execute_result"
    },
    {
     "data": {
      "image/png": "[encoded data removed]",
      "text/plain": [
       "<Figure size 640x480 with 1 Axes>"
      ]
     },
     "metadata": {},
     "output_type": "display_data"
    }
   ],
   "source": [
    "Survived_count = train.Survived.value_counts()\n",
    "Survived_count.plot(kind='bar',xlabel='Survived',ylabel='Count')"
   ]
  },
  {
   "cell_type": "code",
   "execution_count": 38,
   "id": "050d3bc0-fde5-4200-9812-cee172e6c43b",
   "metadata": {},
   "outputs": [
    {
     "data": {
      "text/plain": [
       "<Axes: xlabel='Sex', ylabel='count'>"
      ]
     },
     "execution_count": 38,
     "metadata": {},
     "output_type": "execute_result"
    },
    {
     "data": {
      "image/png": "[encoded data removed]",
      "text/plain": [
       "<Figure size 640x480 with 1 Axes>"
      ]
     },
     "metadata": {},
     "output_type": "display_data"
    }
   ],
   "source": [
    "#using seaborn let's know hoe many men died and how many female died\n",
    "import seaborn as sns \n",
    "sns.countplot(train,x='Sex',hue='Survived')"
   ]
  },
  {
   "cell_type": "code",
   "execution_count": 39,
   "id": "c9486ea1-a1eb-4c56-9bdb-5bb017958000",
   "metadata": {},
   "outputs": [
    {
     "data": {
      "text/plain": [
       "<Axes: xlabel='Pclass', ylabel='count'>"
      ]
     },
     "execution_count": 39,
     "metadata": {},
     "output_type": "execute_result"
    },
    {
     "data": {
      "image/png": "[encoded data removed]",
      "text/plain": [
       "<Figure size 640x480 with 1 Axes>"
      ]
     },
     "metadata": {},
     "output_type": "display_data"
    }
   ],
   "source": [
    "sns.countplot(train,x='Pclass',hue='Survived')"
   ]
  },
  {
   "cell_type": "code",
   "execution_count": 41,
   "id": "cdb38a64-da00-4e53-91c8-10c1fc50fc1f",
   "metadata": {},
   "outputs": [],
   "source": [
    "train['Sex'].replace({'male':1,'female':0},inplace=True)\n",
    "test['Sex'].replace({'male':1,'female':0},inplace=True)\n",
    "\n",
    "train['Embarked'].replace({'S':2,'C':1,'Q':0},inplace=True)\n",
    "test['Embarked'].replace({'S':2,'C':1,'Q':0},inplace=True)\n",
    "\n",
    "train.drop(columns='Ticket',inplace=True)\n",
    "test.drop(columns='Ticket',inplace=True)\n",
    "\n"
   ]
  },
  {
   "cell_type": "code",
   "execution_count": 45,
   "id": "2024e0ec-062c-4d15-bfcf-14a44c64cec2",
   "metadata": {},
   "outputs": [],
   "source": [
    "y=train.Survived.copy()\n",
    "X=train.drop(columns='Survived').copy()"
   ]
  },
  {
   "cell_type": "code",
   "execution_count": 46,
   "id": "a5394f28-52eb-4c2e-8d6b-f7c88248991e",
   "metadata": {},
   "outputs": [],
   "source": [
    "from sklearn.model_selection import train_test_split\n",
    "Xtrain,Xtest,ytrain,ytest=train_test_split(X,y,test_size=0.2,random_state=786)"
   ]
  },
  {
   "cell_type": "code",
   "execution_count": 48,
   "id": "77919939-2c38-4c2f-a705-103a63f1a7a5",
   "metadata": {},
   "outputs": [
    {
     "data": {
      "text/plain": [
       "0.7486033519553073"
      ]
     },
     "execution_count": 48,
     "metadata": {},
     "output_type": "execute_result"
    }
   ],
   "source": [
    "from sklearn.tree import DecisionTreeClassifier\n",
    "dtc=DecisionTreeClassifier()\n",
    "dtc.fit(Xtrain,ytrain)\n",
    "dtc_prediction = dtc.predict(Xtest)\n",
    "\n",
    "from sklearn.metrics import accuracy_score\n",
    "dtc_score=accuracy_score(ytest,dtc_prediction)\n",
    "dtc_score"
   ]
  },
  {
   "cell_type": "code",
   "execution_count": 50,
   "id": "16eaefaf-55b7-4039-9cee-91a851e768d7",
   "metadata": {},
   "outputs": [
    {
     "data": {
      "text/plain": [
       "0.7877094972067039"
      ]
     },
     "execution_count": 50,
     "metadata": {},
     "output_type": "execute_result"
    }
   ],
   "source": [
    "from sklearn.ensemble import RandomForestClassifier\n",
    "rfc=RandomForestClassifier(max_depth =15)\n",
    "rfc.fit(Xtrain,ytrain)\n",
    "rfc_prediction=rfc.predict(Xtest)\n",
    "rfc_accuracy=accuracy_score(ytest,rfc_prediction)\n",
    "rfc_accuracy\n",
    "                            "
   ]
  },
  {
   "cell_type": "code",
   "execution_count": 51,
   "id": "ed520ae8-89c2-4740-9cde-3eaa9e375200",
   "metadata": {},
   "outputs": [
    {
     "name": "stdout",
     "output_type": "stream",
     "text": [
      "Best Hyperparameters {'max_depth': 10, 'min_samples_leaf': 1, 'min_samples_split': 2, 'n_estimators': 100}\n",
      "Accuracy Score  0.8156424581005587\n"
     ]
    }
   ],
   "source": [
    "#improving random forest classifier \n",
    "from sklearn.model_selection import GridSearchCV\n",
    "param_grid={\n",
    "    'n_estimators':[50,100,150],\n",
    "    'max_depth':[10,15,20],\n",
    "    'min_samples_split':[2,5,10],\n",
    "    'min_samples_leaf':[1,2,4]\n",
    "}\n",
    "rfc=RandomForestClassifier()\n",
    "\n",
    "grid_search=GridSearchCV(estimator=rfc,param_grid=param_grid,cv=5,n_jobs=-1)\n",
    "grid_search.fit(Xtrain,ytrain)\n",
    "best_params=grid_search.best_params_\n",
    "print(\"Best Hyperparameters\",best_params)\n",
    "\n",
    "best_rfc=RandomForestClassifier(**best_params)\n",
    "best_rfc.fit(Xtrain,ytrain)\n",
    "\n",
    "rfc_prediction = best_rfc.predict(Xtest)\n",
    "\n",
    "rfc_score=accuracy_score(ytest,rfc_prediction)\n",
    "print(\"Accuracy Score \",rfc_score)"
   ]
  },
  {
   "cell_type": "code",
   "execution_count": null,
   "id": "d0e2e3f2-d655-45fe-85de-6bb791348a74",
   "metadata": {},
   "outputs": [],
   "source": []
  }
 ],
 "metadata": {
  "kernelspec": {
   "display_name": "Python 3 (ipykernel)",
   "language": "python",
   "name": "python3"
  },
  "language_info": {
   "codemirror_mode": {
    "name": "ipython",
    "version": 3
   },
   "file_extension": ".py",
   "mimetype": "text/x-python",
   "name": "python",
   "nbconvert_exporter": "python",
   "pygments_lexer": "ipython3",
   "version": "3.11.7"
  }
 },
 "nbformat": 4,
 "nbformat_minor": 5
}
