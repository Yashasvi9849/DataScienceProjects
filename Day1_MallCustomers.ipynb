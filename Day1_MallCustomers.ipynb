{
 "cells": [
  {
   "cell_type": "code",
   "execution_count": 4,
   "id": "760c34d5-5b47-459d-9cd7-d8116a4992fc",
   "metadata": {},
   "outputs": [],
   "source": [
    "import numpy as np\n",
    "import pandas as pd"
   ]
  },
  {
   "cell_type": "code",
   "execution_count": 6,
   "id": "d28bb196-3591-4869-82b8-72c8c21f1c82",
   "metadata": {},
   "outputs": [
    {
     "name": "stdout",
     "output_type": "stream",
     "text": [
      "Index(['Customer ID', 'Gender', 'Age', 'Annual Income',\n",
      "       'Spending Score (1-100)', 'Unnamed: 5', 'Unnamed: 6'],\n",
      "      dtype='object')\n"
     ]
    }
   ],
   "source": [
    "df = pd.read_csv('Mall_customers.csv')\n",
    "df\n",
    "print(df.columns)"
   ]
  },
  {
   "cell_type": "code",
   "execution_count": 7,
   "id": "2929359c-9d51-4e42-8d99-6c51a486f8b9",
   "metadata": {},
   "outputs": [],
   "source": [
    "# Replacing the cloumn names\n",
    "df.rename(columns = {'Spending Score (1-100)' : 'Spending score'},inplace = True)\n",
    "columns_to_drop = ['Unnamed: 5', 'Unnamed: 6']\n",
    "\n",
    "# Drop the unwanted columns\n",
    "df.drop(columns_to_drop, axis=1, inplace=True)\n"
   ]
  },
  {
   "cell_type": "code",
   "execution_count": 36,
   "id": "486165f9-a2b6-416a-820e-5569e0a198c6",
   "metadata": {},
   "outputs": [
    {
     "data": {
      "text/html": [
       "<div>\n",
       "<style scoped>\n",
       "    .dataframe tbody tr th:only-of-type {\n",
       "        vertical-align: middle;\n",
       "    }\n",
       "\n",
       "    .dataframe tbody tr th {\n",
       "        vertical-align: top;\n",
       "    }\n",
       "\n",
       "    .dataframe thead th {\n",
       "        text-align: right;\n",
       "    }\n",
       "</style>\n",
       "<table border=\"1\" class=\"dataframe\">\n",
       "  <thead>\n",
       "    <tr style=\"text-align: right;\">\n",
       "      <th></th>\n",
       "      <th>Customer ID</th>\n",
       "      <th>Gender</th>\n",
       "      <th>Age</th>\n",
       "      <th>Annual Income</th>\n",
       "      <th>Spending score</th>\n",
       "    </tr>\n",
       "  </thead>\n",
       "  <tbody>\n",
       "    <tr>\n",
       "      <th>0</th>\n",
       "      <td>1</td>\n",
       "      <td>Male</td>\n",
       "      <td>19</td>\n",
       "      <td>15</td>\n",
       "      <td>39</td>\n",
       "    </tr>\n",
       "    <tr>\n",
       "      <th>1</th>\n",
       "      <td>2</td>\n",
       "      <td>Male</td>\n",
       "      <td>21</td>\n",
       "      <td>15</td>\n",
       "      <td>81</td>\n",
       "    </tr>\n",
       "    <tr>\n",
       "      <th>2</th>\n",
       "      <td>3</td>\n",
       "      <td>Female</td>\n",
       "      <td>20</td>\n",
       "      <td>16</td>\n",
       "      <td>6</td>\n",
       "    </tr>\n",
       "    <tr>\n",
       "      <th>3</th>\n",
       "      <td>4</td>\n",
       "      <td>Female</td>\n",
       "      <td>23</td>\n",
       "      <td>16</td>\n",
       "      <td>77</td>\n",
       "    </tr>\n",
       "    <tr>\n",
       "      <th>4</th>\n",
       "      <td>5</td>\n",
       "      <td>Female</td>\n",
       "      <td>31</td>\n",
       "      <td>70</td>\n",
       "      <td>40</td>\n",
       "    </tr>\n",
       "  </tbody>\n",
       "</table>\n",
       "</div>"
      ],
      "text/plain": [
       "   Customer ID   Gender  Age  Annual Income  Spending score\n",
       "0            1     Male   19             15              39\n",
       "1            2     Male   21             15              81\n",
       "2            3   Female   20             16               6\n",
       "3            4  Female    23             16              77\n",
       "4            5   Female   31             70              40"
      ]
     },
     "execution_count": 36,
     "metadata": {},
     "output_type": "execute_result"
    }
   ],
   "source": [
    "df"
   ]
  },
  {
   "cell_type": "code",
   "execution_count": 18,
   "id": "68479516-184c-4469-a46f-4908cdd24e23",
   "metadata": {},
   "outputs": [
    {
     "data": {
      "text/plain": [
       "Customer ID       False\n",
       "Gender            False\n",
       "Age               False\n",
       "Annual Income     False\n",
       "Spending score    False\n",
       "dtype: bool"
      ]
     },
     "execution_count": 18,
     "metadata": {},
     "output_type": "execute_result"
    }
   ],
   "source": [
    "df.head()\n",
    "\n",
    "df.shape\n",
    "\n",
    "df.isnull().any()"
   ]
  },
  {
   "cell_type": "code",
   "execution_count": 25,
   "id": "e70fb13b-a4e5-42e1-8011-fd77da41dc7e",
   "metadata": {},
   "outputs": [
    {
     "name": "stdout",
     "output_type": "stream",
     "text": [
      "   Customer ID   Gender  Age  Annual Income\n",
      "0            1     Male   19             15\n",
      "1            2     Male   21             15\n",
      "2            3   Female   20             16\n",
      "3            4  Female    23             16\n",
      "4            5   Female   31             70\n"
     ]
    }
   ],
   "source": [
    "#No Null Values \n",
    "#Seperating the dataset as x and  y\n",
    "\n",
    "y = df['Spending score']\n",
    "X=df.drop(columns = 'Spending score')\n",
    "print(X)"
   ]
  },
  {
   "cell_type": "code",
   "execution_count": 26,
   "id": "3fcb6e4a-b18d-4e09-a389-021868e9e174",
   "metadata": {},
   "outputs": [
    {
     "name": "stdout",
     "output_type": "stream",
     "text": [
      "X_train shape: (4, 3)\n",
      "y_train shape: (4,)\n",
      "X_test shape: (1, 3)\n",
      "y_test shape: (1,)\n"
     ]
    }
   ],
   "source": [
    "import pandas as pd\n",
    "from sklearn.model_selection import train_test_split\n",
    "\n",
    "# Assuming 'y' is your target variable (Annual Income) as an array or series\n",
    "y = pd.Series([39, 81, 6, 77, 40])\n",
    "\n",
    "# Assuming 'X' is your dataframe of input features\n",
    "data = {\n",
    "    'Customer ID': [1, 2, 3, 4, 5],\n",
    "    'Gender': ['Male', 'Male', 'Female', 'Female', 'Female'],\n",
    "    'Age': [19, 21, 20, 23, 31],\n",
    "    'Annual Income': [15, 15, 16, 16, 70]\n",
    "}\n",
    "X = pd.DataFrame(data)\n",
    "\n",
    "# Remove 'Customer ID' from X if it's not a relevant feature for prediction\n",
    "X.drop(columns=['Customer ID'], inplace=True)\n",
    "\n",
    "# Split the data into training and test sets (80% train, 20% test)\n",
    "X_train, X_test, y_train, y_test = train_test_split(X, y, test_size=0.2, random_state=45)\n",
    "\n",
    "# Display shapes of the resulting datasets\n",
    "print(\"X_train shape:\", X_train.shape)\n",
    "print(\"y_train shape:\", y_train.shape)\n",
    "print(\"X_test shape:\", X_test.shape)\n",
    "print(\"y_test shape:\", y_test.shape)\n"
   ]
  },
  {
   "cell_type": "code",
   "execution_count": 22,
   "id": "ddb44969-fa51-40f2-9db4-c0c6c6df5c94",
   "metadata": {},
   "outputs": [
    {
     "data": {
      "text/plain": [
       "((1, 4), (1,))"
      ]
     },
     "execution_count": 22,
     "metadata": {},
     "output_type": "execute_result"
    }
   ],
   "source": [
    "#splitting into train and test splits\n",
    "from sklearn.model_selection import train_test_split\n",
    "X_train, X_test, y_train , y_test = train_test_split(X,y,test_size = 0.2,random_state =45)\n",
    "X_train.shape,y_train.shape\n",
    "X_test.shape,y_test.shape\n"
   ]
  },
  {
   "cell_type": "code",
   "execution_count": 10,
   "id": "420c00f4-aa7a-45ee-8907-e6348a3d533d",
   "metadata": {},
   "outputs": [],
   "source": [
    "#Using label encoder for the Gender\n",
    "from sklearn.preprocessing import LabelEncoder\n",
    "labelencoder = LabelEncoder()\n",
    "X_train['Gender']=labelencoder.fit_transform(X_train['Gender'])\n",
    "X_test['Gender']=labelencoder.fit_transform(X_test['Gender'])"
   ]
  },
  {
   "cell_type": "code",
   "execution_count": 11,
   "id": "45cdb897-facb-4207-9a81-f2c57568ebc1",
   "metadata": {},
   "outputs": [
    {
     "data": {
      "text/html": [
       "<div>\n",
       "<style scoped>\n",
       "    .dataframe tbody tr th:only-of-type {\n",
       "        vertical-align: middle;\n",
       "    }\n",
       "\n",
       "    .dataframe tbody tr th {\n",
       "        vertical-align: top;\n",
       "    }\n",
       "\n",
       "    .dataframe thead th {\n",
       "        text-align: right;\n",
       "    }\n",
       "</style>\n",
       "<table border=\"1\" class=\"dataframe\">\n",
       "  <thead>\n",
       "    <tr style=\"text-align: right;\">\n",
       "      <th></th>\n",
       "      <th>Customer ID</th>\n",
       "      <th>Gender</th>\n",
       "      <th>Age</th>\n",
       "      <th>Annual Income</th>\n",
       "    </tr>\n",
       "  </thead>\n",
       "  <tbody>\n",
       "    <tr>\n",
       "      <th>4</th>\n",
       "      <td>5</td>\n",
       "      <td>0</td>\n",
       "      <td>31</td>\n",
       "      <td>70</td>\n",
       "    </tr>\n",
       "    <tr>\n",
       "      <th>0</th>\n",
       "      <td>1</td>\n",
       "      <td>2</td>\n",
       "      <td>19</td>\n",
       "      <td>15</td>\n",
       "    </tr>\n",
       "    <tr>\n",
       "      <th>2</th>\n",
       "      <td>3</td>\n",
       "      <td>0</td>\n",
       "      <td>20</td>\n",
       "      <td>16</td>\n",
       "    </tr>\n",
       "    <tr>\n",
       "      <th>3</th>\n",
       "      <td>4</td>\n",
       "      <td>1</td>\n",
       "      <td>23</td>\n",
       "      <td>16</td>\n",
       "    </tr>\n",
       "  </tbody>\n",
       "</table>\n",
       "</div>"
      ],
      "text/plain": [
       "   Customer ID  Gender  Age  Annual Income\n",
       "4            5       0   31             70\n",
       "0            1       2   19             15\n",
       "2            3       0   20             16\n",
       "3            4       1   23             16"
      ]
     },
     "execution_count": 11,
     "metadata": {},
     "output_type": "execute_result"
    }
   ],
   "source": [
    "X_train"
   ]
  },
  {
   "cell_type": "code",
   "execution_count": 12,
   "id": "2c1ffaf6-6d26-4f3b-ab4e-7197720aa829",
   "metadata": {},
   "outputs": [
    {
     "data": {
      "text/plain": [
       "41.88724645003549"
      ]
     },
     "execution_count": 12,
     "metadata": {},
     "output_type": "execute_result"
    }
   ],
   "source": [
    "from sklearn import svm \n",
    "svm_model = svm.SVR()\n",
    "svm_model.fit(X_train,y_train)\n",
    "svm_prediction = svm_model.predict(X_test)\n",
    "from sklearn.metrics import mean_absolute_error\n",
    "svm_mae = mean_absolute_error(y_test,svm_prediction)\n",
    "svm_mae"
   ]
  },
  {
   "cell_type": "code",
   "execution_count": 13,
   "id": "460ce30f-12a6-41c8-9e5a-ee8e847a1051",
   "metadata": {},
   "outputs": [
    {
     "data": {
      "text/plain": [
       "75.0"
      ]
     },
     "execution_count": 13,
     "metadata": {},
     "output_type": "execute_result"
    }
   ],
   "source": [
    "from sklearn.tree import DecisionTreeRegressor\n",
    "\n",
    "dt_model = DecisionTreeRegressor()\n",
    "\n",
    "dt_model.fit(X_train, y_train)\n",
    "\n",
    "dt_prediction = dt_model.predict(X_test)\n",
    "\n",
    "dt_mae = mean_absolute_error(y_test, dt_prediction)\n",
    "\n",
    "dt_mae"
   ]
  },
  {
   "cell_type": "code",
   "execution_count": 16,
   "id": "ce14d538-702d-49a4-ab8b-6dce893d8931",
   "metadata": {},
   "outputs": [
    {
     "data": {
      "text/plain": [
       "70.22093579976253"
      ]
     },
     "execution_count": 16,
     "metadata": {},
     "output_type": "execute_result"
    }
   ],
   "source": [
    "from sklearn.linear_model import LinearRegression\n",
    "\n",
    "lr_model = LinearRegression()\n",
    "\n",
    "lr_model.fit(scaled_X_train, y_train)\n",
    "\n",
    "lr_prediction = lr_model.predict(scaled_X_test)\n",
    "\n",
    "lr_prediction\n",
    "lr_mae = mean_absolute_error(y_test, lr_prediction)\n",
    "\n",
    "lr_mae\n"
   ]
  },
  {
   "cell_type": "code",
   "execution_count": 14,
   "id": "11b63b9e-0c8e-43a9-aba4-189c2530c640",
   "metadata": {},
   "outputs": [
    {
     "data": {
      "text/plain": [
       "41.657200930268466"
      ]
     },
     "execution_count": 14,
     "metadata": {},
     "output_type": "execute_result"
    }
   ],
   "source": [
    "from sklearn.preprocessing import StandardScaler\n",
    "\n",
    "std_scaler = StandardScaler()\n",
    "\n",
    "scaled_X_train = pd.DataFrame(std_scaler.fit_transform(X_train), columns=X_train.columns, index=X_train.index)\n",
    "scaled_X_test = pd.DataFrame(std_scaler.fit_transform(X_test), columns=X_test.columns, index=X_test.index)\n",
    "\n",
    "labelencoder = LabelEncoder()\n",
    "scaled_X_train['Gender'] = labelencoder.fit_transform(X_train['Gender'])\n",
    "scaled_X_test['Gender'] = labelencoder.fit_transform(X_test['Gender'])\n",
    "\n",
    "svm_model.fit(scaled_X_train, y_train)\n",
    "\n",
    "new_svm_prediction = svm_model.predict(scaled_X_test)\n",
    "\n",
    "mean_absolute_error(y_test, new_svm_prediction) # 20.52389413223758"
   ]
  },
  {
   "cell_type": "code",
   "execution_count": 17,
   "id": "8fabe26c-d055-4648-b01e-74152d32c344",
   "metadata": {},
   "outputs": [
    {
     "data": {
      "text/plain": [
       "array([10.7790642])"
      ]
     },
     "execution_count": 17,
     "metadata": {},
     "output_type": "execute_result"
    }
   ],
   "source": []
  },
  {
   "cell_type": "code",
   "execution_count": null,
   "id": "285efbab-b0cd-4bfb-b82f-831b31cace7d",
   "metadata": {},
   "outputs": [],
   "source": []
  }
 ],
 "metadata": {
  "kernelspec": {
   "display_name": "Python 3 (ipykernel)",
   "language": "python",
   "name": "python3"
  },
  "language_info": {
   "codemirror_mode": {
    "name": "ipython",
    "version": 3
   },
   "file_extension": ".py",
   "mimetype": "text/x-python",
   "name": "python",
   "nbconvert_exporter": "python",
   "pygments_lexer": "ipython3",
   "version": "3.11.7"
  }
 },
 "nbformat": 4,
 "nbformat_minor": 5
}
