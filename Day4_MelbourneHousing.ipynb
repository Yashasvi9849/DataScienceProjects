{
 "cells": [
  {
   "cell_type": "code",
   "execution_count": 45,
   "id": "1a70cdf5-c1af-4a2a-acc2-4a2b2b602819",
   "metadata": {},
   "outputs": [],
   "source": [
    "import pandas as pd"
   ]
  },
  {
   "cell_type": "code",
   "execution_count": 46,
   "id": "5bc421cc-0b58-4291-9826-7eb31d575fe4",
   "metadata": {},
   "outputs": [],
   "source": [
    "df=pd.read_csv('melb_data.csv')\n",
    "pd.set_option('display.max_column',100)"
   ]
  },
  {
   "cell_type": "code",
   "execution_count": 47,
   "id": "9312bb4e-2d8a-40d3-9cdb-c05567f40aa4",
   "metadata": {},
   "outputs": [
    {
     "data": {
      "text/html": [
       "<div>\n",
       "<style scoped>\n",
       "    .dataframe tbody tr th:only-of-type {\n",
       "        vertical-align: middle;\n",
       "    }\n",
       "\n",
       "    .dataframe tbody tr th {\n",
       "        vertical-align: top;\n",
       "    }\n",
       "\n",
       "    .dataframe thead th {\n",
       "        text-align: right;\n",
       "    }\n",
       "</style>\n",
       "<table border=\"1\" class=\"dataframe\">\n",
       "  <thead>\n",
       "    <tr style=\"text-align: right;\">\n",
       "      <th></th>\n",
       "      <th>Unnamed: 0</th>\n",
       "      <th>Suburb</th>\n",
       "      <th>Address</th>\n",
       "      <th>Rooms</th>\n",
       "      <th>Type</th>\n",
       "      <th>Price</th>\n",
       "      <th>Method</th>\n",
       "      <th>SellerG</th>\n",
       "      <th>Date</th>\n",
       "      <th>Distance</th>\n",
       "      <th>Postcode</th>\n",
       "      <th>Bedroom2</th>\n",
       "      <th>Bathroom</th>\n",
       "      <th>Car</th>\n",
       "      <th>Landsize</th>\n",
       "      <th>BuildingArea</th>\n",
       "      <th>YearBuilt</th>\n",
       "      <th>CouncilArea</th>\n",
       "      <th>Lattitude</th>\n",
       "      <th>Longtitude</th>\n",
       "      <th>Regionname</th>\n",
       "      <th>Propertycount</th>\n",
       "    </tr>\n",
       "  </thead>\n",
       "  <tbody>\n",
       "    <tr>\n",
       "      <th>0</th>\n",
       "      <td>1</td>\n",
       "      <td>Abbotsford</td>\n",
       "      <td>85 Turner St</td>\n",
       "      <td>2</td>\n",
       "      <td>h</td>\n",
       "      <td>1480000.0</td>\n",
       "      <td>S</td>\n",
       "      <td>Biggin</td>\n",
       "      <td>3/12/2016</td>\n",
       "      <td>2.5</td>\n",
       "      <td>3067.0</td>\n",
       "      <td>2.0</td>\n",
       "      <td>1.0</td>\n",
       "      <td>1.0</td>\n",
       "      <td>202.0</td>\n",
       "      <td>NaN</td>\n",
       "      <td>NaN</td>\n",
       "      <td>Yarra</td>\n",
       "      <td>-37.7996</td>\n",
       "      <td>144.9984</td>\n",
       "      <td>Northern Metropolitan</td>\n",
       "      <td>4019.0</td>\n",
       "    </tr>\n",
       "    <tr>\n",
       "      <th>1</th>\n",
       "      <td>2</td>\n",
       "      <td>Abbotsford</td>\n",
       "      <td>25 Bloomburg St</td>\n",
       "      <td>2</td>\n",
       "      <td>h</td>\n",
       "      <td>1035000.0</td>\n",
       "      <td>S</td>\n",
       "      <td>Biggin</td>\n",
       "      <td>4/02/2016</td>\n",
       "      <td>2.5</td>\n",
       "      <td>3067.0</td>\n",
       "      <td>2.0</td>\n",
       "      <td>1.0</td>\n",
       "      <td>0.0</td>\n",
       "      <td>156.0</td>\n",
       "      <td>79.0</td>\n",
       "      <td>1900.0</td>\n",
       "      <td>Yarra</td>\n",
       "      <td>-37.8079</td>\n",
       "      <td>144.9934</td>\n",
       "      <td>Northern Metropolitan</td>\n",
       "      <td>4019.0</td>\n",
       "    </tr>\n",
       "    <tr>\n",
       "      <th>2</th>\n",
       "      <td>4</td>\n",
       "      <td>Abbotsford</td>\n",
       "      <td>5 Charles St</td>\n",
       "      <td>3</td>\n",
       "      <td>h</td>\n",
       "      <td>1465000.0</td>\n",
       "      <td>SP</td>\n",
       "      <td>Biggin</td>\n",
       "      <td>4/03/2017</td>\n",
       "      <td>2.5</td>\n",
       "      <td>3067.0</td>\n",
       "      <td>3.0</td>\n",
       "      <td>2.0</td>\n",
       "      <td>0.0</td>\n",
       "      <td>134.0</td>\n",
       "      <td>150.0</td>\n",
       "      <td>1900.0</td>\n",
       "      <td>Yarra</td>\n",
       "      <td>-37.8093</td>\n",
       "      <td>144.9944</td>\n",
       "      <td>Northern Metropolitan</td>\n",
       "      <td>4019.0</td>\n",
       "    </tr>\n",
       "    <tr>\n",
       "      <th>3</th>\n",
       "      <td>5</td>\n",
       "      <td>Abbotsford</td>\n",
       "      <td>40 Federation La</td>\n",
       "      <td>3</td>\n",
       "      <td>h</td>\n",
       "      <td>850000.0</td>\n",
       "      <td>PI</td>\n",
       "      <td>Biggin</td>\n",
       "      <td>4/03/2017</td>\n",
       "      <td>2.5</td>\n",
       "      <td>3067.0</td>\n",
       "      <td>3.0</td>\n",
       "      <td>2.0</td>\n",
       "      <td>1.0</td>\n",
       "      <td>94.0</td>\n",
       "      <td>NaN</td>\n",
       "      <td>NaN</td>\n",
       "      <td>Yarra</td>\n",
       "      <td>-37.7969</td>\n",
       "      <td>144.9969</td>\n",
       "      <td>Northern Metropolitan</td>\n",
       "      <td>4019.0</td>\n",
       "    </tr>\n",
       "    <tr>\n",
       "      <th>4</th>\n",
       "      <td>6</td>\n",
       "      <td>Abbotsford</td>\n",
       "      <td>55a Park St</td>\n",
       "      <td>4</td>\n",
       "      <td>h</td>\n",
       "      <td>1600000.0</td>\n",
       "      <td>VB</td>\n",
       "      <td>Nelson</td>\n",
       "      <td>4/06/2016</td>\n",
       "      <td>2.5</td>\n",
       "      <td>3067.0</td>\n",
       "      <td>3.0</td>\n",
       "      <td>1.0</td>\n",
       "      <td>2.0</td>\n",
       "      <td>120.0</td>\n",
       "      <td>142.0</td>\n",
       "      <td>2014.0</td>\n",
       "      <td>Yarra</td>\n",
       "      <td>-37.8072</td>\n",
       "      <td>144.9941</td>\n",
       "      <td>Northern Metropolitan</td>\n",
       "      <td>4019.0</td>\n",
       "    </tr>\n",
       "  </tbody>\n",
       "</table>\n",
       "</div>"
      ],
      "text/plain": [
       "   Unnamed: 0      Suburb           Address  Rooms Type      Price Method  \\\n",
       "0           1  Abbotsford      85 Turner St      2    h  1480000.0      S   \n",
       "1           2  Abbotsford   25 Bloomburg St      2    h  1035000.0      S   \n",
       "2           4  Abbotsford      5 Charles St      3    h  1465000.0     SP   \n",
       "3           5  Abbotsford  40 Federation La      3    h   850000.0     PI   \n",
       "4           6  Abbotsford       55a Park St      4    h  1600000.0     VB   \n",
       "\n",
       "  SellerG       Date  Distance  Postcode  Bedroom2  Bathroom  Car  Landsize  \\\n",
       "0  Biggin  3/12/2016       2.5    3067.0       2.0       1.0  1.0     202.0   \n",
       "1  Biggin  4/02/2016       2.5    3067.0       2.0       1.0  0.0     156.0   \n",
       "2  Biggin  4/03/2017       2.5    3067.0       3.0       2.0  0.0     134.0   \n",
       "3  Biggin  4/03/2017       2.5    3067.0       3.0       2.0  1.0      94.0   \n",
       "4  Nelson  4/06/2016       2.5    3067.0       3.0       1.0  2.0     120.0   \n",
       "\n",
       "   BuildingArea  YearBuilt CouncilArea  Lattitude  Longtitude  \\\n",
       "0           NaN        NaN       Yarra   -37.7996    144.9984   \n",
       "1          79.0     1900.0       Yarra   -37.8079    144.9934   \n",
       "2         150.0     1900.0       Yarra   -37.8093    144.9944   \n",
       "3           NaN        NaN       Yarra   -37.7969    144.9969   \n",
       "4         142.0     2014.0       Yarra   -37.8072    144.9941   \n",
       "\n",
       "              Regionname  Propertycount  \n",
       "0  Northern Metropolitan         4019.0  \n",
       "1  Northern Metropolitan         4019.0  \n",
       "2  Northern Metropolitan         4019.0  \n",
       "3  Northern Metropolitan         4019.0  \n",
       "4  Northern Metropolitan         4019.0  "
      ]
     },
     "execution_count": 47,
     "metadata": {},
     "output_type": "execute_result"
    }
   ],
   "source": [
    "df.head()"
   ]
  },
  {
   "cell_type": "code",
   "execution_count": 48,
   "id": "13a7a965-b2ec-4bd8-979f-9c2a4ab1a130",
   "metadata": {},
   "outputs": [
    {
     "data": {
      "text/plain": [
       "(18396, 22)"
      ]
     },
     "execution_count": 48,
     "metadata": {},
     "output_type": "execute_result"
    }
   ],
   "source": [
    "df.shape"
   ]
  },
  {
   "cell_type": "code",
   "execution_count": 49,
   "id": "411d56a4-96e2-46b4-8a98-8f955a2f3a1b",
   "metadata": {},
   "outputs": [
    {
     "data": {
      "text/plain": [
       "Unnamed: 0           0\n",
       "Suburb               0\n",
       "Address              0\n",
       "Rooms                0\n",
       "Type                 0\n",
       "Price                0\n",
       "Method               0\n",
       "SellerG              0\n",
       "Date                 0\n",
       "Distance             1\n",
       "Postcode             1\n",
       "Bedroom2          3469\n",
       "Bathroom          3471\n",
       "Car               3576\n",
       "Landsize          4793\n",
       "BuildingArea     10634\n",
       "YearBuilt         9438\n",
       "CouncilArea       6163\n",
       "Lattitude         3332\n",
       "Longtitude        3332\n",
       "Regionname           1\n",
       "Propertycount        1\n",
       "dtype: int64"
      ]
     },
     "execution_count": 49,
     "metadata": {},
     "output_type": "execute_result"
    }
   ],
   "source": [
    "\n",
    "df.isnull().sum()"
   ]
  },
  {
   "cell_type": "code",
   "execution_count": 50,
   "id": "96b9f9d6-f072-4382-b62e-02fcb6f399d9",
   "metadata": {},
   "outputs": [
    {
     "data": {
      "text/html": [
       "<div>\n",
       "<style scoped>\n",
       "    .dataframe tbody tr th:only-of-type {\n",
       "        vertical-align: middle;\n",
       "    }\n",
       "\n",
       "    .dataframe tbody tr th {\n",
       "        vertical-align: top;\n",
       "    }\n",
       "\n",
       "    .dataframe thead th {\n",
       "        text-align: right;\n",
       "    }\n",
       "</style>\n",
       "<table border=\"1\" class=\"dataframe\">\n",
       "  <thead>\n",
       "    <tr style=\"text-align: right;\">\n",
       "      <th></th>\n",
       "      <th>count</th>\n",
       "      <th>mean</th>\n",
       "      <th>std</th>\n",
       "      <th>min</th>\n",
       "      <th>25%</th>\n",
       "      <th>50%</th>\n",
       "      <th>75%</th>\n",
       "      <th>max</th>\n",
       "    </tr>\n",
       "  </thead>\n",
       "  <tbody>\n",
       "    <tr>\n",
       "      <th>Unnamed: 0</th>\n",
       "      <td>18396.0</td>\n",
       "      <td>1.182679e+04</td>\n",
       "      <td>6800.710448</td>\n",
       "      <td>1.00000</td>\n",
       "      <td>5936.750000</td>\n",
       "      <td>11820.500000</td>\n",
       "      <td>1.773425e+04</td>\n",
       "      <td>2.354600e+04</td>\n",
       "    </tr>\n",
       "    <tr>\n",
       "      <th>Rooms</th>\n",
       "      <td>18396.0</td>\n",
       "      <td>2.935040e+00</td>\n",
       "      <td>0.958202</td>\n",
       "      <td>1.00000</td>\n",
       "      <td>2.000000</td>\n",
       "      <td>3.000000</td>\n",
       "      <td>3.000000e+00</td>\n",
       "      <td>1.200000e+01</td>\n",
       "    </tr>\n",
       "    <tr>\n",
       "      <th>Price</th>\n",
       "      <td>18396.0</td>\n",
       "      <td>1.056697e+06</td>\n",
       "      <td>641921.666710</td>\n",
       "      <td>85000.00000</td>\n",
       "      <td>633000.000000</td>\n",
       "      <td>880000.000000</td>\n",
       "      <td>1.302000e+06</td>\n",
       "      <td>9.000000e+06</td>\n",
       "    </tr>\n",
       "    <tr>\n",
       "      <th>Distance</th>\n",
       "      <td>18395.0</td>\n",
       "      <td>1.038999e+01</td>\n",
       "      <td>6.009050</td>\n",
       "      <td>0.00000</td>\n",
       "      <td>6.300000</td>\n",
       "      <td>9.700000</td>\n",
       "      <td>1.330000e+01</td>\n",
       "      <td>4.810000e+01</td>\n",
       "    </tr>\n",
       "    <tr>\n",
       "      <th>Postcode</th>\n",
       "      <td>18395.0</td>\n",
       "      <td>3.107140e+03</td>\n",
       "      <td>95.000995</td>\n",
       "      <td>3000.00000</td>\n",
       "      <td>3046.000000</td>\n",
       "      <td>3085.000000</td>\n",
       "      <td>3.149000e+03</td>\n",
       "      <td>3.978000e+03</td>\n",
       "    </tr>\n",
       "    <tr>\n",
       "      <th>Bedroom2</th>\n",
       "      <td>14927.0</td>\n",
       "      <td>2.913043e+00</td>\n",
       "      <td>0.964641</td>\n",
       "      <td>0.00000</td>\n",
       "      <td>2.000000</td>\n",
       "      <td>3.000000</td>\n",
       "      <td>3.000000e+00</td>\n",
       "      <td>2.000000e+01</td>\n",
       "    </tr>\n",
       "    <tr>\n",
       "      <th>Bathroom</th>\n",
       "      <td>14925.0</td>\n",
       "      <td>1.538492e+00</td>\n",
       "      <td>0.689311</td>\n",
       "      <td>0.00000</td>\n",
       "      <td>1.000000</td>\n",
       "      <td>1.000000</td>\n",
       "      <td>2.000000e+00</td>\n",
       "      <td>8.000000e+00</td>\n",
       "    </tr>\n",
       "    <tr>\n",
       "      <th>Car</th>\n",
       "      <td>14820.0</td>\n",
       "      <td>1.615520e+00</td>\n",
       "      <td>0.955916</td>\n",
       "      <td>0.00000</td>\n",
       "      <td>1.000000</td>\n",
       "      <td>2.000000</td>\n",
       "      <td>2.000000e+00</td>\n",
       "      <td>1.000000e+01</td>\n",
       "    </tr>\n",
       "    <tr>\n",
       "      <th>Landsize</th>\n",
       "      <td>13603.0</td>\n",
       "      <td>5.581164e+02</td>\n",
       "      <td>3987.326586</td>\n",
       "      <td>0.00000</td>\n",
       "      <td>176.500000</td>\n",
       "      <td>440.000000</td>\n",
       "      <td>6.510000e+02</td>\n",
       "      <td>4.330140e+05</td>\n",
       "    </tr>\n",
       "    <tr>\n",
       "      <th>BuildingArea</th>\n",
       "      <td>7762.0</td>\n",
       "      <td>1.512202e+02</td>\n",
       "      <td>519.188596</td>\n",
       "      <td>0.00000</td>\n",
       "      <td>93.000000</td>\n",
       "      <td>126.000000</td>\n",
       "      <td>1.740000e+02</td>\n",
       "      <td>4.451500e+04</td>\n",
       "    </tr>\n",
       "    <tr>\n",
       "      <th>YearBuilt</th>\n",
       "      <td>8958.0</td>\n",
       "      <td>1.965880e+03</td>\n",
       "      <td>37.013261</td>\n",
       "      <td>1196.00000</td>\n",
       "      <td>1950.000000</td>\n",
       "      <td>1970.000000</td>\n",
       "      <td>2.000000e+03</td>\n",
       "      <td>2.018000e+03</td>\n",
       "    </tr>\n",
       "    <tr>\n",
       "      <th>Lattitude</th>\n",
       "      <td>15064.0</td>\n",
       "      <td>-3.780985e+01</td>\n",
       "      <td>0.081152</td>\n",
       "      <td>-38.18255</td>\n",
       "      <td>-37.858100</td>\n",
       "      <td>-37.803625</td>\n",
       "      <td>-3.775627e+01</td>\n",
       "      <td>-3.740853e+01</td>\n",
       "    </tr>\n",
       "    <tr>\n",
       "      <th>Longtitude</th>\n",
       "      <td>15064.0</td>\n",
       "      <td>1.449963e+02</td>\n",
       "      <td>0.106375</td>\n",
       "      <td>144.43181</td>\n",
       "      <td>144.931193</td>\n",
       "      <td>145.000920</td>\n",
       "      <td>1.450600e+02</td>\n",
       "      <td>1.455264e+02</td>\n",
       "    </tr>\n",
       "    <tr>\n",
       "      <th>Propertycount</th>\n",
       "      <td>18395.0</td>\n",
       "      <td>7.517975e+03</td>\n",
       "      <td>4488.416599</td>\n",
       "      <td>249.00000</td>\n",
       "      <td>4294.000000</td>\n",
       "      <td>6567.000000</td>\n",
       "      <td>1.033100e+04</td>\n",
       "      <td>2.165000e+04</td>\n",
       "    </tr>\n",
       "  </tbody>\n",
       "</table>\n",
       "</div>"
      ],
      "text/plain": [
       "                 count          mean            std          min  \\\n",
       "Unnamed: 0     18396.0  1.182679e+04    6800.710448      1.00000   \n",
       "Rooms          18396.0  2.935040e+00       0.958202      1.00000   \n",
       "Price          18396.0  1.056697e+06  641921.666710  85000.00000   \n",
       "Distance       18395.0  1.038999e+01       6.009050      0.00000   \n",
       "Postcode       18395.0  3.107140e+03      95.000995   3000.00000   \n",
       "Bedroom2       14927.0  2.913043e+00       0.964641      0.00000   \n",
       "Bathroom       14925.0  1.538492e+00       0.689311      0.00000   \n",
       "Car            14820.0  1.615520e+00       0.955916      0.00000   \n",
       "Landsize       13603.0  5.581164e+02    3987.326586      0.00000   \n",
       "BuildingArea    7762.0  1.512202e+02     519.188596      0.00000   \n",
       "YearBuilt       8958.0  1.965880e+03      37.013261   1196.00000   \n",
       "Lattitude      15064.0 -3.780985e+01       0.081152    -38.18255   \n",
       "Longtitude     15064.0  1.449963e+02       0.106375    144.43181   \n",
       "Propertycount  18395.0  7.517975e+03    4488.416599    249.00000   \n",
       "\n",
       "                         25%            50%           75%           max  \n",
       "Unnamed: 0       5936.750000   11820.500000  1.773425e+04  2.354600e+04  \n",
       "Rooms               2.000000       3.000000  3.000000e+00  1.200000e+01  \n",
       "Price          633000.000000  880000.000000  1.302000e+06  9.000000e+06  \n",
       "Distance            6.300000       9.700000  1.330000e+01  4.810000e+01  \n",
       "Postcode         3046.000000    3085.000000  3.149000e+03  3.978000e+03  \n",
       "Bedroom2            2.000000       3.000000  3.000000e+00  2.000000e+01  \n",
       "Bathroom            1.000000       1.000000  2.000000e+00  8.000000e+00  \n",
       "Car                 1.000000       2.000000  2.000000e+00  1.000000e+01  \n",
       "Landsize          176.500000     440.000000  6.510000e+02  4.330140e+05  \n",
       "BuildingArea       93.000000     126.000000  1.740000e+02  4.451500e+04  \n",
       "YearBuilt        1950.000000    1970.000000  2.000000e+03  2.018000e+03  \n",
       "Lattitude         -37.858100     -37.803625 -3.775627e+01 -3.740853e+01  \n",
       "Longtitude        144.931193     145.000920  1.450600e+02  1.455264e+02  \n",
       "Propertycount    4294.000000    6567.000000  1.033100e+04  2.165000e+04  "
      ]
     },
     "execution_count": 50,
     "metadata": {},
     "output_type": "execute_result"
    }
   ],
   "source": [
    "df.describe().T"
   ]
  },
  {
   "cell_type": "code",
   "execution_count": 51,
   "id": "2a695ba6-8dba-4389-82dd-b8f92be4aed9",
   "metadata": {},
   "outputs": [
    {
     "name": "stdout",
     "output_type": "stream",
     "text": [
      "<class 'pandas.core.frame.DataFrame'>\n",
      "RangeIndex: 18396 entries, 0 to 18395\n",
      "Data columns (total 22 columns):\n",
      " #   Column         Non-Null Count  Dtype  \n",
      "---  ------         --------------  -----  \n",
      " 0   Unnamed: 0     18396 non-null  int64  \n",
      " 1   Suburb         18396 non-null  object \n",
      " 2   Address        18396 non-null  object \n",
      " 3   Rooms          18396 non-null  int64  \n",
      " 4   Type           18396 non-null  object \n",
      " 5   Price          18396 non-null  float64\n",
      " 6   Method         18396 non-null  object \n",
      " 7   SellerG        18396 non-null  object \n",
      " 8   Date           18396 non-null  object \n",
      " 9   Distance       18395 non-null  float64\n",
      " 10  Postcode       18395 non-null  float64\n",
      " 11  Bedroom2       14927 non-null  float64\n",
      " 12  Bathroom       14925 non-null  float64\n",
      " 13  Car            14820 non-null  float64\n",
      " 14  Landsize       13603 non-null  float64\n",
      " 15  BuildingArea   7762 non-null   float64\n",
      " 16  YearBuilt      8958 non-null   float64\n",
      " 17  CouncilArea    12233 non-null  object \n",
      " 18  Lattitude      15064 non-null  float64\n",
      " 19  Longtitude     15064 non-null  float64\n",
      " 20  Regionname     18395 non-null  object \n",
      " 21  Propertycount  18395 non-null  float64\n",
      "dtypes: float64(12), int64(2), object(8)\n",
      "memory usage: 3.1+ MB\n"
     ]
    }
   ],
   "source": [
    "#info method to know the categorical values \n",
    "df.info()"
   ]
  },
  {
   "cell_type": "code",
   "execution_count": 68,
   "id": "7f548bb7-2d04-4774-9079-71921175897b",
   "metadata": {},
   "outputs": [
    {
     "data": {
      "text/plain": [
       "Unnamed: 0       18396\n",
       "Suburb             330\n",
       "Address          18134\n",
       "Rooms               11\n",
       "Type                 3\n",
       "Price             2470\n",
       "Method               5\n",
       "SellerG            305\n",
       "Date                58\n",
       "Distance           211\n",
       "Postcode           206\n",
       "Lattitude         7519\n",
       "Longtitude        8169\n",
       "Regionname           8\n",
       "Propertycount      324\n",
       "dtype: int64"
      ]
     },
     "execution_count": 68,
     "metadata": {},
     "output_type": "execute_result"
    }
   ],
   "source": [
    "#nunique to know the number of unique values \n",
    "df.nunique()"
   ]
  },
  {
   "cell_type": "code",
   "execution_count": 70,
   "id": "0659217d-903f-4b25-ad94-a11ca4bb0b00",
   "metadata": {},
   "outputs": [],
   "source": [
    "#dropping the columns \n",
    "df=df.drop(columns=['Distance','Postcode','Propertycount'])"
   ]
  },
  {
   "cell_type": "code",
   "execution_count": null,
   "id": "74d96e86-8546-477c-98bf-c4bfa1e7e282",
   "metadata": {},
   "outputs": [],
   "source": []
  },
  {
   "cell_type": "code",
   "execution_count": 71,
   "id": "e591d8b4-ca95-40e5-aa47-17d29a34d186",
   "metadata": {},
   "outputs": [
    {
     "data": {
      "text/plain": [
       "Unnamed: 0    0\n",
       "Suburb        0\n",
       "Address       0\n",
       "Rooms         0\n",
       "Type          0\n",
       "Price         0\n",
       "Method        0\n",
       "SellerG       0\n",
       "Date          0\n",
       "Lattitude     0\n",
       "Longtitude    0\n",
       "Regionname    1\n",
       "dtype: int64"
      ]
     },
     "execution_count": 71,
     "metadata": {},
     "output_type": "execute_result"
    }
   ],
   "source": [
    "#checking the missing values \n",
    "df.isnull().sum()"
   ]
  },
  {
   "cell_type": "code",
   "execution_count": 72,
   "id": "4d3f76b6-a551-4d47-b1c3-9f74c7255628",
   "metadata": {},
   "outputs": [],
   "source": [
    "df['Lattitude'].fillna(df['Lattitude'].mean(), inplace=True)\n",
    "df['Longtitude'].fillna(df['Longtitude'].mean(), inplace=True)\n",
    "df['Regionname'] = df['Regionname'].fillna('Unknown')\n"
   ]
  },
  {
   "cell_type": "code",
   "execution_count": 73,
   "id": "d334f0e2-520c-4019-8394-101fb37d15bb",
   "metadata": {},
   "outputs": [
    {
     "data": {
      "text/plain": [
       "Unnamed: 0    0\n",
       "Suburb        0\n",
       "Address       0\n",
       "Rooms         0\n",
       "Type          0\n",
       "Price         0\n",
       "Method        0\n",
       "SellerG       0\n",
       "Date          0\n",
       "Lattitude     0\n",
       "Longtitude    0\n",
       "Regionname    0\n",
       "dtype: int64"
      ]
     },
     "execution_count": 73,
     "metadata": {},
     "output_type": "execute_result"
    }
   ],
   "source": [
    "df.isnull().sum()"
   ]
  },
  {
   "cell_type": "code",
   "execution_count": 74,
   "id": "706e417f-760b-46fb-98db-5ee3c0129f06",
   "metadata": {},
   "outputs": [],
   "source": [
    "#considering the values with low cardinality\n",
    "low_cardinality_col = [col for col in df.columns if df[col].dtype == object and df[col].nunique()<10]\n",
    "num_col = [col for col in df.columns if df[col].dtype in [int,float]]\n",
    "                       "
   ]
  },
  {
   "cell_type": "code",
   "execution_count": 75,
   "id": "67e0f29a-5462-4283-8fd6-e04c84b73b9b",
   "metadata": {},
   "outputs": [
    {
     "data": {
      "text/html": [
       "<div>\n",
       "<style scoped>\n",
       "    .dataframe tbody tr th:only-of-type {\n",
       "        vertical-align: middle;\n",
       "    }\n",
       "\n",
       "    .dataframe tbody tr th {\n",
       "        vertical-align: top;\n",
       "    }\n",
       "\n",
       "    .dataframe thead th {\n",
       "        text-align: right;\n",
       "    }\n",
       "</style>\n",
       "<table border=\"1\" class=\"dataframe\">\n",
       "  <thead>\n",
       "    <tr style=\"text-align: right;\">\n",
       "      <th></th>\n",
       "      <th>Type</th>\n",
       "      <th>Method</th>\n",
       "      <th>Regionname</th>\n",
       "      <th>Unnamed: 0</th>\n",
       "      <th>Rooms</th>\n",
       "      <th>Lattitude</th>\n",
       "      <th>Longtitude</th>\n",
       "    </tr>\n",
       "  </thead>\n",
       "  <tbody>\n",
       "    <tr>\n",
       "      <th>18391</th>\n",
       "      <td>t</td>\n",
       "      <td>SP</td>\n",
       "      <td>Western Metropolitan</td>\n",
       "      <td>23540</td>\n",
       "      <td>2</td>\n",
       "      <td>-37.86393</td>\n",
       "      <td>144.90484</td>\n",
       "    </tr>\n",
       "    <tr>\n",
       "      <th>18392</th>\n",
       "      <td>h</td>\n",
       "      <td>PI</td>\n",
       "      <td>Western Metropolitan</td>\n",
       "      <td>23541</td>\n",
       "      <td>4</td>\n",
       "      <td>-37.85908</td>\n",
       "      <td>144.89299</td>\n",
       "    </tr>\n",
       "    <tr>\n",
       "      <th>18393</th>\n",
       "      <td>h</td>\n",
       "      <td>S</td>\n",
       "      <td>Northern Metropolitan</td>\n",
       "      <td>23544</td>\n",
       "      <td>4</td>\n",
       "      <td>-37.72006</td>\n",
       "      <td>145.10547</td>\n",
       "    </tr>\n",
       "    <tr>\n",
       "      <th>18394</th>\n",
       "      <td>h</td>\n",
       "      <td>SP</td>\n",
       "      <td>Western Metropolitan</td>\n",
       "      <td>23545</td>\n",
       "      <td>4</td>\n",
       "      <td>-37.81188</td>\n",
       "      <td>144.88449</td>\n",
       "    </tr>\n",
       "    <tr>\n",
       "      <th>18395</th>\n",
       "      <td>h</td>\n",
       "      <td>VB</td>\n",
       "      <td>Western Metropolitan</td>\n",
       "      <td>23546</td>\n",
       "      <td>4</td>\n",
       "      <td>-37.81829</td>\n",
       "      <td>144.87404</td>\n",
       "    </tr>\n",
       "  </tbody>\n",
       "</table>\n",
       "</div>"
      ],
      "text/plain": [
       "      Type Method             Regionname  Unnamed: 0  Rooms  Lattitude  \\\n",
       "18391    t     SP   Western Metropolitan       23540      2  -37.86393   \n",
       "18392    h     PI   Western Metropolitan       23541      4  -37.85908   \n",
       "18393    h      S  Northern Metropolitan       23544      4  -37.72006   \n",
       "18394    h     SP   Western Metropolitan       23545      4  -37.81188   \n",
       "18395    h     VB   Western Metropolitan       23546      4  -37.81829   \n",
       "\n",
       "       Longtitude  \n",
       "18391   144.90484  \n",
       "18392   144.89299  \n",
       "18393   145.10547  \n",
       "18394   144.88449  \n",
       "18395   144.87404  "
      ]
     },
     "execution_count": 75,
     "metadata": {},
     "output_type": "execute_result"
    }
   ],
   "source": [
    "x= df[low_cardinality_col + num_col].drop(columns = 'Price')\n",
    "x.tail()"
   ]
  },
  {
   "cell_type": "code",
   "execution_count": 76,
   "id": "cfa05190-45b3-4fa2-b4f4-834abedd5ef6",
   "metadata": {},
   "outputs": [],
   "source": [
    "y=df['Price']"
   ]
  },
  {
   "cell_type": "code",
   "execution_count": 77,
   "id": "b6d4e858-139b-4d1e-8409-a8a68799e7dd",
   "metadata": {},
   "outputs": [
    {
     "data": {
      "text/plain": [
       "Type          3\n",
       "Method        5\n",
       "Regionname    9\n",
       "dtype: int64"
      ]
     },
     "execution_count": 77,
     "metadata": {},
     "output_type": "execute_result"
    }
   ],
   "source": [
    "x[low_cardinality_col].nunique()"
   ]
  },
  {
   "cell_type": "code",
   "execution_count": 78,
   "id": "5ac57234-688f-4f65-8126-496d82a0045d",
   "metadata": {},
   "outputs": [
    {
     "data": {
      "text/html": [
       "<div>\n",
       "<style scoped>\n",
       "    .dataframe tbody tr th:only-of-type {\n",
       "        vertical-align: middle;\n",
       "    }\n",
       "\n",
       "    .dataframe tbody tr th {\n",
       "        vertical-align: top;\n",
       "    }\n",
       "\n",
       "    .dataframe thead th {\n",
       "        text-align: right;\n",
       "    }\n",
       "</style>\n",
       "<table border=\"1\" class=\"dataframe\">\n",
       "  <thead>\n",
       "    <tr style=\"text-align: right;\">\n",
       "      <th></th>\n",
       "      <th>Type</th>\n",
       "      <th>Method</th>\n",
       "      <th>Regionname</th>\n",
       "      <th>Unnamed: 0</th>\n",
       "      <th>Rooms</th>\n",
       "      <th>Lattitude</th>\n",
       "      <th>Longtitude</th>\n",
       "    </tr>\n",
       "  </thead>\n",
       "  <tbody>\n",
       "    <tr>\n",
       "      <th>0</th>\n",
       "      <td>0</td>\n",
       "      <td>1</td>\n",
       "      <td>2</td>\n",
       "      <td>1</td>\n",
       "      <td>2</td>\n",
       "      <td>-37.7996</td>\n",
       "      <td>144.9984</td>\n",
       "    </tr>\n",
       "    <tr>\n",
       "      <th>1</th>\n",
       "      <td>0</td>\n",
       "      <td>1</td>\n",
       "      <td>2</td>\n",
       "      <td>2</td>\n",
       "      <td>2</td>\n",
       "      <td>-37.8079</td>\n",
       "      <td>144.9934</td>\n",
       "    </tr>\n",
       "    <tr>\n",
       "      <th>2</th>\n",
       "      <td>0</td>\n",
       "      <td>3</td>\n",
       "      <td>2</td>\n",
       "      <td>4</td>\n",
       "      <td>3</td>\n",
       "      <td>-37.8093</td>\n",
       "      <td>144.9944</td>\n",
       "    </tr>\n",
       "    <tr>\n",
       "      <th>3</th>\n",
       "      <td>0</td>\n",
       "      <td>0</td>\n",
       "      <td>2</td>\n",
       "      <td>5</td>\n",
       "      <td>3</td>\n",
       "      <td>-37.7969</td>\n",
       "      <td>144.9969</td>\n",
       "    </tr>\n",
       "    <tr>\n",
       "      <th>4</th>\n",
       "      <td>0</td>\n",
       "      <td>4</td>\n",
       "      <td>2</td>\n",
       "      <td>6</td>\n",
       "      <td>4</td>\n",
       "      <td>-37.8072</td>\n",
       "      <td>144.9941</td>\n",
       "    </tr>\n",
       "  </tbody>\n",
       "</table>\n",
       "</div>"
      ],
      "text/plain": [
       "   Type  Method  Regionname  Unnamed: 0  Rooms  Lattitude  Longtitude\n",
       "0     0       1           2           1      2   -37.7996    144.9984\n",
       "1     0       1           2           2      2   -37.8079    144.9934\n",
       "2     0       3           2           4      3   -37.8093    144.9944\n",
       "3     0       0           2           5      3   -37.7969    144.9969\n",
       "4     0       4           2           6      4   -37.8072    144.9941"
      ]
     },
     "execution_count": 78,
     "metadata": {},
     "output_type": "execute_result"
    }
   ],
   "source": [
    "#label encoder\n",
    "from sklearn.preprocessing import LabelEncoder\n",
    "le=LabelEncoder()\n",
    "x['Type'] = le.fit_transform(df['Type'])\n",
    "x['Method']=le.fit_transform(df['Method'])\n",
    "x['Regionname']=le.fit_transform(df['Regionname'])\n",
    "x.head()"
   ]
  },
  {
   "cell_type": "code",
   "execution_count": 79,
   "id": "425dffd8-d9c5-43fc-a62e-fb7466d5be7a",
   "metadata": {},
   "outputs": [
    {
     "data": {
      "text/plain": [
       "((14716, 7), (3680, 7))"
      ]
     },
     "execution_count": 79,
     "metadata": {},
     "output_type": "execute_result"
    }
   ],
   "source": [
    "from sklearn.model_selection import train_test_split\n",
    "x_train,x_test,y_train,y_test = train_test_split(x,y,test_size=0.2,random_state=56)\n",
    "x_train.shape,x_test.shape\n"
   ]
  },
  {
   "cell_type": "code",
   "execution_count": 80,
   "id": "82d55943-d339-423e-8acc-2f6fb0a3f029",
   "metadata": {},
   "outputs": [
    {
     "data": {
      "text/plain": [
       "((14716,), (3680,))"
      ]
     },
     "execution_count": 80,
     "metadata": {},
     "output_type": "execute_result"
    }
   ],
   "source": [
    "y_train.shape,y_test.shape"
   ]
  },
  {
   "cell_type": "code",
   "execution_count": 81,
   "id": "4542cdb7-5520-460c-b69e-c6ddaaeba5f4",
   "metadata": {},
   "outputs": [
    {
     "data": {
      "text/plain": [
       "272030.5070652174"
      ]
     },
     "execution_count": 81,
     "metadata": {},
     "output_type": "execute_result"
    }
   ],
   "source": [
    "#decision tree regression\n",
    "\n",
    "from sklearn.tree import DecisionTreeRegressor \n",
    "dtr=DecisionTreeRegressor()\n",
    "dtr.fit(x_train,y_train)\n",
    "dtr_prediction=dtr.predict(x_test)\n",
    "from sklearn.metrics import mean_absolute_error\n",
    "mae=mean_absolute_error(y_test,dtr_prediction)\n",
    "mae\n"
   ]
  },
  {
   "cell_type": "code",
   "execution_count": 82,
   "id": "ff62acb9-140e-4f58-9cf0-95ccfef4dea9",
   "metadata": {},
   "outputs": [],
   "source": [
    "#random forest regressor \n",
    "from sklearn.ensemble import RandomForestRegressor \n",
    "def rf_mae(x_train,x_test,y_train,y_test):\n",
    "    rfr=RandomForestRegressor()\n",
    "    rfr.fit(x_train,y_train)\n",
    "    prediction=rfr.predict(x_test)\n",
    "    rfr_mae = mean_absolute_error(y_test,prediction)\n",
    "    return rfr_mae\n",
    "\n"
   ]
  },
  {
   "cell_type": "code",
   "execution_count": 83,
   "id": "67be5179-c299-41e7-b5cd-c5d3f329c546",
   "metadata": {},
   "outputs": [
    {
     "data": {
      "text/plain": [
       "206564.21897826085"
      ]
     },
     "execution_count": 83,
     "metadata": {},
     "output_type": "execute_result"
    }
   ],
   "source": [
    "rf_mae(x_train,x_test,y_train,y_test)"
   ]
  },
  {
   "cell_type": "code",
   "execution_count": 86,
   "id": "19eb03ca-4fce-4b4d-881e-17547d68618a",
   "metadata": {},
   "outputs": [
    {
     "data": {
      "text/plain": [
       "1056697.4609154165"
      ]
     },
     "execution_count": 86,
     "metadata": {},
     "output_type": "execute_result"
    }
   ],
   "source": [
    "df['Price'].mean()"
   ]
  },
  {
   "cell_type": "code",
   "execution_count": 84,
   "id": "61a75174-7873-4de6-afaf-b693c1b539c7",
   "metadata": {},
   "outputs": [],
   "source": [
    "import numpy as np \n",
    "mean_price = df['Price'].mean()\n",
    "baseline_mae=np.mean(np.abs(df['Price']-mean_price))\n"
   ]
  },
  {
   "cell_type": "code",
   "execution_count": 85,
   "id": "a10fe96e-e12a-48e0-98a9-1f7fe3d25dec",
   "metadata": {},
   "outputs": [
    {
     "data": {
      "text/plain": [
       "458568.9503538542"
      ]
     },
     "execution_count": 85,
     "metadata": {},
     "output_type": "execute_result"
    }
   ],
   "source": [
    "baseline_mae"
   ]
  },
  {
   "cell_type": "code",
   "execution_count": null,
   "id": "3d8370ab-d434-42f7-aa7e-e77babbbf815",
   "metadata": {},
   "outputs": [],
   "source": []
  }
 ],
 "metadata": {
  "kernelspec": {
   "display_name": "Python 3 (ipykernel)",
   "language": "python",
   "name": "python3"
  },
  "language_info": {
   "codemirror_mode": {
    "name": "ipython",
    "version": 3
   },
   "file_extension": ".py",
   "mimetype": "text/x-python",
   "name": "python",
   "nbconvert_exporter": "python",
   "pygments_lexer": "ipython3",
   "version": "3.11.7"
  }
 },
 "nbformat": 4,
 "nbformat_minor": 5
}
